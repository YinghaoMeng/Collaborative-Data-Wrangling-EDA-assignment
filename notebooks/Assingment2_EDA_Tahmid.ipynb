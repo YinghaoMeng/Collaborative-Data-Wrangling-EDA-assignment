{
 "cells": [
  {
   "cell_type": "code",
   "execution_count": 12,
   "id": "a1426e9a-a2ae-4522-9eb1-e177eb314c27",
   "metadata": {},
   "outputs": [],
   "source": [
    "import os"
   ]
  },
  {
   "cell_type": "code",
   "execution_count": 13,
   "id": "6a95b931-3f37-468d-9cfb-d451d5db0d19",
   "metadata": {},
   "outputs": [
    {
     "data": {
      "text/plain": [
       "['.ipynb_checkpoints',\n",
       " 'Assingment 2_EDA_Tahmid.ipynb',\n",
       " 'Merged_Table_3sigma_cleaned.xlsx']"
      ]
     },
     "execution_count": 13,
     "metadata": {},
     "output_type": "execute_result"
    }
   ],
   "source": [
    "os.getcwd() ## Checking the Current Directory\n",
    "os.listdir() ## Checking the file list"
   ]
  },
  {
   "cell_type": "code",
   "execution_count": 14,
   "id": "82dcd02e-b200-4752-89f6-f49b8fbfc5c7",
   "metadata": {},
   "outputs": [],
   "source": [
    "# Importing Library\n",
    "import pandas as pd\n",
    "import numpy as np\n",
    "import seaborn as sns\n",
    "import matplotlib.pyplot as plt\n",
    "\n",
    "#Loading Data file Cleaned Data\n",
    "df = pd.read_excel(\"Merged_Table_3sigma_cleaned.xlsx\")\n"
   ]
  },
  {
   "cell_type": "code",
   "execution_count": 15,
   "id": "87dcd2b9-a6b1-438d-b633-2dffb1dea2ae",
   "metadata": {
    "scrolled": true
   },
   "outputs": [
    {
     "data": {
      "text/html": [
       "<div>\n",
       "<style scoped>\n",
       "    .dataframe tbody tr th:only-of-type {\n",
       "        vertical-align: middle;\n",
       "    }\n",
       "\n",
       "    .dataframe tbody tr th {\n",
       "        vertical-align: top;\n",
       "    }\n",
       "\n",
       "    .dataframe thead th {\n",
       "        text-align: right;\n",
       "    }\n",
       "</style>\n",
       "<table border=\"1\" class=\"dataframe\">\n",
       "  <thead>\n",
       "    <tr style=\"text-align: right;\">\n",
       "      <th></th>\n",
       "      <th>Sales Date</th>\n",
       "      <th>Scan-to-Buy Time</th>\n",
       "      <th>Item Code</th>\n",
       "      <th>Sales Volume (kilograms)</th>\n",
       "      <th>Sales Unit Price (CNY/kg)</th>\n",
       "      <th>Sales Type</th>\n",
       "      <th>Are discounts available?</th>\n",
       "      <th>Classification Code</th>\n",
       "      <th>Classification Name</th>\n",
       "      <th>Date</th>\n",
       "      <th>Wholesale Price (CNY/kg)</th>\n",
       "      <th>Wastage Rate (%)</th>\n",
       "    </tr>\n",
       "  </thead>\n",
       "  <tbody>\n",
       "    <tr>\n",
       "      <th>0</th>\n",
       "      <td>2020-07-01</td>\n",
       "      <td>09:15:07.924</td>\n",
       "      <td>102900005117056</td>\n",
       "      <td>0.396</td>\n",
       "      <td>7.6</td>\n",
       "      <td>Sold</td>\n",
       "      <td>No</td>\n",
       "      <td>1011010504</td>\n",
       "      <td>Pepper varieties</td>\n",
       "      <td>2022-02-14</td>\n",
       "      <td>10.00</td>\n",
       "      <td>7.08</td>\n",
       "    </tr>\n",
       "    <tr>\n",
       "      <th>1</th>\n",
       "      <td>2020-07-01</td>\n",
       "      <td>09:17:27.295</td>\n",
       "      <td>102900005115960</td>\n",
       "      <td>0.849</td>\n",
       "      <td>3.2</td>\n",
       "      <td>Sold</td>\n",
       "      <td>No</td>\n",
       "      <td>1011010101</td>\n",
       "      <td>Variegated plants</td>\n",
       "      <td>2023-06-30</td>\n",
       "      <td>2.53</td>\n",
       "      <td>22.27</td>\n",
       "    </tr>\n",
       "    <tr>\n",
       "      <th>2</th>\n",
       "      <td>2020-07-01</td>\n",
       "      <td>09:17:33.905</td>\n",
       "      <td>102900005117056</td>\n",
       "      <td>0.409</td>\n",
       "      <td>7.6</td>\n",
       "      <td>Sold</td>\n",
       "      <td>No</td>\n",
       "      <td>1011010504</td>\n",
       "      <td>Pepper varieties</td>\n",
       "      <td>2022-02-14</td>\n",
       "      <td>10.00</td>\n",
       "      <td>7.08</td>\n",
       "    </tr>\n",
       "    <tr>\n",
       "      <th>3</th>\n",
       "      <td>2020-07-01</td>\n",
       "      <td>09:19:45.450</td>\n",
       "      <td>102900005115823</td>\n",
       "      <td>0.421</td>\n",
       "      <td>10.0</td>\n",
       "      <td>Sold</td>\n",
       "      <td>No</td>\n",
       "      <td>1011010101</td>\n",
       "      <td>Variegated plants</td>\n",
       "      <td>2023-06-30</td>\n",
       "      <td>4.09</td>\n",
       "      <td>14.43</td>\n",
       "    </tr>\n",
       "    <tr>\n",
       "      <th>4</th>\n",
       "      <td>2020-07-01</td>\n",
       "      <td>09:20:23.686</td>\n",
       "      <td>102900005115908</td>\n",
       "      <td>0.539</td>\n",
       "      <td>8.0</td>\n",
       "      <td>Sold</td>\n",
       "      <td>No</td>\n",
       "      <td>1011010101</td>\n",
       "      <td>Variegated plants</td>\n",
       "      <td>2023-06-28</td>\n",
       "      <td>4.62</td>\n",
       "      <td>13.70</td>\n",
       "    </tr>\n",
       "  </tbody>\n",
       "</table>\n",
       "</div>"
      ],
      "text/plain": [
       "  Sales Date Scan-to-Buy Time        Item Code  Sales Volume (kilograms)  \\\n",
       "0 2020-07-01     09:15:07.924  102900005117056                     0.396   \n",
       "1 2020-07-01     09:17:27.295  102900005115960                     0.849   \n",
       "2 2020-07-01     09:17:33.905  102900005117056                     0.409   \n",
       "3 2020-07-01     09:19:45.450  102900005115823                     0.421   \n",
       "4 2020-07-01     09:20:23.686  102900005115908                     0.539   \n",
       "\n",
       "   Sales Unit Price (CNY/kg) Sales Type Are discounts available?  \\\n",
       "0                        7.6       Sold                       No   \n",
       "1                        3.2       Sold                       No   \n",
       "2                        7.6       Sold                       No   \n",
       "3                       10.0       Sold                       No   \n",
       "4                        8.0       Sold                       No   \n",
       "\n",
       "   Classification Code Classification Name       Date  \\\n",
       "0           1011010504    Pepper varieties 2022-02-14   \n",
       "1           1011010101   Variegated plants 2023-06-30   \n",
       "2           1011010504    Pepper varieties 2022-02-14   \n",
       "3           1011010101   Variegated plants 2023-06-30   \n",
       "4           1011010101   Variegated plants 2023-06-28   \n",
       "\n",
       "   Wholesale Price (CNY/kg)  Wastage Rate (%)  \n",
       "0                     10.00              7.08  \n",
       "1                      2.53             22.27  \n",
       "2                     10.00              7.08  \n",
       "3                      4.09             14.43  \n",
       "4                      4.62             13.70  "
      ]
     },
     "execution_count": 15,
     "metadata": {},
     "output_type": "execute_result"
    }
   ],
   "source": [
    "## Overserving Top 5 Rows \n",
    "df.head()"
   ]
  },
  {
   "cell_type": "code",
   "execution_count": 16,
   "id": "6dcbe790-35a0-4046-9531-bb13a241a031",
   "metadata": {},
   "outputs": [
    {
     "data": {
      "text/plain": [
       "Sales Date                   0.0\n",
       "Scan-to-Buy Time             0.0\n",
       "Item Code                    0.0\n",
       "Sales Volume (kilograms)     0.0\n",
       "Sales Unit Price (CNY/kg)    0.0\n",
       "Sales Type                   0.0\n",
       "Are discounts available?     0.0\n",
       "Classification Code          0.0\n",
       "Classification Name          0.0\n",
       "Date                         0.0\n",
       "Wholesale Price (CNY/kg)     0.0\n",
       "Wastage Rate (%)             0.0\n",
       "dtype: float64"
      ]
     },
     "execution_count": 16,
     "metadata": {},
     "output_type": "execute_result"
    }
   ],
   "source": [
    "## Seeing if any missing values exist \n",
    "df.isnull().sum()\n",
    "## Seeing the percentage of the missing values for each column\n",
    "df.isnull().mean()*100\n"
   ]
  },
  {
   "cell_type": "code",
   "execution_count": 17,
   "id": "1798a62a-6a92-4baf-a418-a2df5759d453",
   "metadata": {},
   "outputs": [
    {
     "name": "stdout",
     "output_type": "stream",
     "text": [
      "<class 'pandas.core.frame.DataFrame'>\n",
      "RangeIndex: 851424 entries, 0 to 851423\n",
      "Data columns (total 12 columns):\n",
      " #   Column                     Non-Null Count   Dtype         \n",
      "---  ------                     --------------   -----         \n",
      " 0   Sales Date                 851424 non-null  datetime64[ns]\n",
      " 1   Scan-to-Buy Time           851424 non-null  object        \n",
      " 2   Item Code                  851424 non-null  int64         \n",
      " 3   Sales Volume (kilograms)   851424 non-null  float64       \n",
      " 4   Sales Unit Price (CNY/kg)  851424 non-null  float64       \n",
      " 5   Sales Type                 851424 non-null  object        \n",
      " 6   Are discounts available?   851424 non-null  object        \n",
      " 7   Classification Code        851424 non-null  int64         \n",
      " 8   Classification Name        851424 non-null  object        \n",
      " 9   Date                       851424 non-null  datetime64[ns]\n",
      " 10  Wholesale Price (CNY/kg)   851424 non-null  float64       \n",
      " 11  Wastage Rate (%)           851424 non-null  float64       \n",
      "dtypes: datetime64[ns](2), float64(4), int64(2), object(4)\n",
      "memory usage: 78.0+ MB\n"
     ]
    }
   ],
   "source": [
    "## Seeing the datatypes for the columns\n",
    "df.info()"
   ]
  },
  {
   "cell_type": "code",
   "execution_count": 18,
   "id": "e8487491-bf24-454f-8a70-01e3fa21930f",
   "metadata": {
    "scrolled": true
   },
   "outputs": [
    {
     "data": {
      "text/html": [
       "<div>\n",
       "<style scoped>\n",
       "    .dataframe tbody tr th:only-of-type {\n",
       "        vertical-align: middle;\n",
       "    }\n",
       "\n",
       "    .dataframe tbody tr th {\n",
       "        vertical-align: top;\n",
       "    }\n",
       "\n",
       "    .dataframe thead th {\n",
       "        text-align: right;\n",
       "    }\n",
       "</style>\n",
       "<table border=\"1\" class=\"dataframe\">\n",
       "  <thead>\n",
       "    <tr style=\"text-align: right;\">\n",
       "      <th></th>\n",
       "      <th>Sales Date</th>\n",
       "      <th>Item Code</th>\n",
       "      <th>Sales Volume (kilograms)</th>\n",
       "      <th>Sales Unit Price (CNY/kg)</th>\n",
       "      <th>Classification Code</th>\n",
       "      <th>Date</th>\n",
       "      <th>Wholesale Price (CNY/kg)</th>\n",
       "      <th>Wastage Rate (%)</th>\n",
       "    </tr>\n",
       "  </thead>\n",
       "  <tbody>\n",
       "    <tr>\n",
       "      <th>count</th>\n",
       "      <td>851424</td>\n",
       "      <td>8.514240e+05</td>\n",
       "      <td>851424.000000</td>\n",
       "      <td>851424.000000</td>\n",
       "      <td>8.514240e+05</td>\n",
       "      <td>851424</td>\n",
       "      <td>851424.000000</td>\n",
       "      <td>851424.000000</td>\n",
       "    </tr>\n",
       "    <tr>\n",
       "      <th>mean</th>\n",
       "      <td>2021-11-22 19:03:49.338143744</td>\n",
       "      <td>1.030353e+14</td>\n",
       "      <td>0.531348</td>\n",
       "      <td>8.506917</td>\n",
       "      <td>1.011010e+09</td>\n",
       "      <td>2023-05-12 06:05:47.457436672</td>\n",
       "      <td>6.020302</td>\n",
       "      <td>9.880338</td>\n",
       "    </tr>\n",
       "    <tr>\n",
       "      <th>min</th>\n",
       "      <td>2020-07-01 00:00:00</td>\n",
       "      <td>1.029000e+14</td>\n",
       "      <td>-0.662000</td>\n",
       "      <td>0.100000</td>\n",
       "      <td>1.011010e+09</td>\n",
       "      <td>2020-08-13 00:00:00</td>\n",
       "      <td>0.010000</td>\n",
       "      <td>0.000000</td>\n",
       "    </tr>\n",
       "    <tr>\n",
       "      <th>25%</th>\n",
       "      <td>2021-02-05 00:00:00</td>\n",
       "      <td>1.029000e+14</td>\n",
       "      <td>0.295000</td>\n",
       "      <td>4.900000</td>\n",
       "      <td>1.011010e+09</td>\n",
       "      <td>2023-06-13 00:00:00</td>\n",
       "      <td>3.120000</td>\n",
       "      <td>6.270000</td>\n",
       "    </tr>\n",
       "    <tr>\n",
       "      <th>50%</th>\n",
       "      <td>2021-10-15 00:00:00</td>\n",
       "      <td>1.029000e+14</td>\n",
       "      <td>0.438000</td>\n",
       "      <td>7.600000</td>\n",
       "      <td>1.011010e+09</td>\n",
       "      <td>2023-06-30 00:00:00</td>\n",
       "      <td>4.620000</td>\n",
       "      <td>9.430000</td>\n",
       "    </tr>\n",
       "    <tr>\n",
       "      <th>75%</th>\n",
       "      <td>2022-09-13 00:00:00</td>\n",
       "      <td>1.029000e+14</td>\n",
       "      <td>0.748000</td>\n",
       "      <td>10.000000</td>\n",
       "      <td>1.011011e+09</td>\n",
       "      <td>2023-06-30 00:00:00</td>\n",
       "      <td>8.420000</td>\n",
       "      <td>13.620000</td>\n",
       "    </tr>\n",
       "    <tr>\n",
       "      <th>max</th>\n",
       "      <td>2023-06-30 00:00:00</td>\n",
       "      <td>1.069740e+14</td>\n",
       "      <td>1.736000</td>\n",
       "      <td>27.800000</td>\n",
       "      <td>1.011011e+09</td>\n",
       "      <td>2023-06-30 00:00:00</td>\n",
       "      <td>16.060000</td>\n",
       "      <td>22.270000</td>\n",
       "    </tr>\n",
       "    <tr>\n",
       "      <th>std</th>\n",
       "      <td>NaN</td>\n",
       "      <td>7.278616e+11</td>\n",
       "      <td>0.310922</td>\n",
       "      <td>5.001625</td>\n",
       "      <td>2.599103e+02</td>\n",
       "      <td>NaN</td>\n",
       "      <td>3.753374</td>\n",
       "      <td>4.305168</td>\n",
       "    </tr>\n",
       "  </tbody>\n",
       "</table>\n",
       "</div>"
      ],
      "text/plain": [
       "                          Sales Date     Item Code  Sales Volume (kilograms)  \\\n",
       "count                         851424  8.514240e+05             851424.000000   \n",
       "mean   2021-11-22 19:03:49.338143744  1.030353e+14                  0.531348   \n",
       "min              2020-07-01 00:00:00  1.029000e+14                 -0.662000   \n",
       "25%              2021-02-05 00:00:00  1.029000e+14                  0.295000   \n",
       "50%              2021-10-15 00:00:00  1.029000e+14                  0.438000   \n",
       "75%              2022-09-13 00:00:00  1.029000e+14                  0.748000   \n",
       "max              2023-06-30 00:00:00  1.069740e+14                  1.736000   \n",
       "std                              NaN  7.278616e+11                  0.310922   \n",
       "\n",
       "       Sales Unit Price (CNY/kg)  Classification Code  \\\n",
       "count              851424.000000         8.514240e+05   \n",
       "mean                    8.506917         1.011010e+09   \n",
       "min                     0.100000         1.011010e+09   \n",
       "25%                     4.900000         1.011010e+09   \n",
       "50%                     7.600000         1.011010e+09   \n",
       "75%                    10.000000         1.011011e+09   \n",
       "max                    27.800000         1.011011e+09   \n",
       "std                     5.001625         2.599103e+02   \n",
       "\n",
       "                                Date  Wholesale Price (CNY/kg)  \\\n",
       "count                         851424             851424.000000   \n",
       "mean   2023-05-12 06:05:47.457436672                  6.020302   \n",
       "min              2020-08-13 00:00:00                  0.010000   \n",
       "25%              2023-06-13 00:00:00                  3.120000   \n",
       "50%              2023-06-30 00:00:00                  4.620000   \n",
       "75%              2023-06-30 00:00:00                  8.420000   \n",
       "max              2023-06-30 00:00:00                 16.060000   \n",
       "std                              NaN                  3.753374   \n",
       "\n",
       "       Wastage Rate (%)  \n",
       "count     851424.000000  \n",
       "mean           9.880338  \n",
       "min            0.000000  \n",
       "25%            6.270000  \n",
       "50%            9.430000  \n",
       "75%           13.620000  \n",
       "max           22.270000  \n",
       "std            4.305168  "
      ]
     },
     "execution_count": 18,
     "metadata": {},
     "output_type": "execute_result"
    }
   ],
   "source": [
    "# Descriptive Statistical Analysis\n",
    "df.describe()"
   ]
  },
  {
   "cell_type": "code",
   "execution_count": 19,
   "id": "490e3467-159c-420e-898a-effbb1cc136e",
   "metadata": {},
   "outputs": [
    {
     "ename": "NameError",
     "evalue": "name 'daily' is not defined",
     "output_type": "error",
     "traceback": [
      "\u001b[1;31m---------------------------------------------------------------------------\u001b[0m",
      "\u001b[1;31mNameError\u001b[0m                                 Traceback (most recent call last)",
      "Cell \u001b[1;32mIn[19], line 3\u001b[0m\n\u001b[0;32m      1\u001b[0m \u001b[38;5;66;03m## Plotting Sales Price and Wholesale Price Per Kg through Sales Date\u001b[39;00m\n\u001b[0;32m      2\u001b[0m plt\u001b[38;5;241m.\u001b[39mfigure(figsize\u001b[38;5;241m=\u001b[39m(\u001b[38;5;241m12\u001b[39m,\u001b[38;5;241m6\u001b[39m))\n\u001b[1;32m----> 3\u001b[0m plt\u001b[38;5;241m.\u001b[39mplot(daily[\u001b[38;5;124m'\u001b[39m\u001b[38;5;124mSales Date\u001b[39m\u001b[38;5;124m'\u001b[39m], daily[\u001b[38;5;124m'\u001b[39m\u001b[38;5;124mSales Unit Price (CNY/kg)\u001b[39m\u001b[38;5;124m'\u001b[39m], label\u001b[38;5;241m=\u001b[39m\u001b[38;5;124m\"\u001b[39m\u001b[38;5;124mSales Price\u001b[39m\u001b[38;5;124m\"\u001b[39m)\n\u001b[0;32m      4\u001b[0m plt\u001b[38;5;241m.\u001b[39mplot(daily[\u001b[38;5;124m'\u001b[39m\u001b[38;5;124mSales Date\u001b[39m\u001b[38;5;124m'\u001b[39m], df\u001b[38;5;241m.\u001b[39mgroupby(\u001b[38;5;124m'\u001b[39m\u001b[38;5;124mSales Date\u001b[39m\u001b[38;5;124m'\u001b[39m)[\u001b[38;5;124m'\u001b[39m\u001b[38;5;124mWholesale Price (CNY/kg)\u001b[39m\u001b[38;5;124m'\u001b[39m]\u001b[38;5;241m.\u001b[39mmean()\u001b[38;5;241m.\u001b[39mvalues, label\u001b[38;5;241m=\u001b[39m\u001b[38;5;124m\"\u001b[39m\u001b[38;5;124mWholesale Price\u001b[39m\u001b[38;5;124m\"\u001b[39m)\n\u001b[0;32m      5\u001b[0m plt\u001b[38;5;241m.\u001b[39mlegend()\n",
      "\u001b[1;31mNameError\u001b[0m: name 'daily' is not defined"
     ]
    },
    {
     "data": {
      "text/plain": [
       "<Figure size 1200x600 with 0 Axes>"
      ]
     },
     "metadata": {},
     "output_type": "display_data"
    }
   ],
   "source": [
    "## Plotting Sales Price and Wholesale Price Per Kg through Sales Date\n",
    "plt.figure(figsize=(12,6))\n",
    "plt.plot(daily['Sales Date'], daily['Sales Unit Price (CNY/kg)'], label=\"Sales Price\")\n",
    "plt.plot(daily['Sales Date'], df.groupby('Sales Date')['Wholesale Price (CNY/kg)'].mean().values, label=\"Wholesale Price\")\n",
    "plt.legend()\n",
    "plt.xlabel(\"Sales Date\")\n",
    "plt.ylabel(\"Price (CNY/kg)\")\n",
    "plt.show()"
   ]
  },
  {
   "cell_type": "code",
   "execution_count": null,
   "id": "dfdc33ba-d089-47ab-8261-d5ef80ada4ff",
   "metadata": {},
   "outputs": [],
   "source": [
    "## Histogram for numerical variables\n",
    "sns.histplot(data=df, x=\"Sales Volume (kilograms)\", bins=20, kde = True)\n",
    "plt.show()\n",
    "sns.histplot(data=df, x=\"Sales Unit Price (CNY/kg)\", bins=20, kde = True)\n",
    "plt.show()\n",
    "sns.histplot(data=df, x=\"Wholesale Price (CNY/kg)\", bins=20, kde = True)\n",
    "plt.show()\n",
    "sns.histplot(data=df, x=\"Wastage Rate (%)\", bins=20, kde = True)\n",
    "plt.show()\n"
   ]
  },
  {
   "cell_type": "code",
   "execution_count": null,
   "id": "6de3932f-feab-4519-b931-2d63b717b57d",
   "metadata": {},
   "outputs": [],
   "source": [
    "## Box plot for Sales Volume based on Sales and Return\n",
    "plt.figure(figsize=(8,6))\n",
    "sns.boxplot(x=\"Sales Type\", y=\"Sales Volume (kilograms)\", data=df)\n",
    "plt.show()\n"
   ]
  },
  {
   "cell_type": "code",
   "execution_count": null,
   "id": "1a38a773-909d-4ede-90fd-a4ab63abf543",
   "metadata": {},
   "outputs": [],
   "source": [
    "## Showing Correlation Matrix\n",
    "plt.figure(figsize=(10,6))\n",
    "sns.heatmap(corr, annot=True, fmt=\".2f\", cmap=\"coolwarm\", cbar=True)\n",
    "plt.title(\"Correlation Matrix of Numeric Variables\")\n",
    "plt.show()"
   ]
  },
  {
   "cell_type": "code",
   "execution_count": null,
   "id": "360567d6-380c-4868-a7d1-5fe3757ecd33",
   "metadata": {},
   "outputs": [],
   "source": []
  }
 ],
 "metadata": {
  "kernelspec": {
   "display_name": "Python [conda env:base] *",
   "language": "python",
   "name": "conda-base-py"
  },
  "language_info": {
   "codemirror_mode": {
    "name": "ipython",
    "version": 3
   },
   "file_extension": ".py",
   "mimetype": "text/x-python",
   "name": "python",
   "nbconvert_exporter": "python",
   "pygments_lexer": "ipython3",
   "version": "3.13.5"
  }
 },
 "nbformat": 4,
 "nbformat_minor": 5
}
